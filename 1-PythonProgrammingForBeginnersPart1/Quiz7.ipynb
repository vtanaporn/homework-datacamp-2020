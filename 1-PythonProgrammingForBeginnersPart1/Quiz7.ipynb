{
 "cells": [
  {
   "cell_type": "code",
   "execution_count": null,
   "metadata": {},
   "outputs": [],
   "source": [
    "# Quiz 7-Condition (If Else Statement)"
   ]
  },
  {
   "cell_type": "code",
   "execution_count": 2,
   "metadata": {},
   "outputs": [],
   "source": [
    "# 7.1) จงเขียนโปรแกรมตรวจสอบคะแนนเด็กนักเรียน\n",
    "# ถ้าเด็กได้คะแนนมากกว่า 80 เกรด A\n",
    "# มากกว่า 70 เกรด B\n",
    "# มากกว่า 60 เกรด C\n",
    "# มากกว่า 50 เกรด D\n",
    "# และต่ำกว่า 50 เกรด F"
   ]
  },
  {
   "cell_type": "code",
   "execution_count": 17,
   "metadata": {},
   "outputs": [
    {
     "name": "stdout",
     "output_type": "stream",
     "text": [
      "D\n"
     ]
    }
   ],
   "source": [
    "score = 50\n",
    "if (score > 80):\n",
    "    grade = 'A'\n",
    "elif (score > 70):\n",
    "    grade = 'B'\n",
    "elif (score > 60):\n",
    "    grade = 'C'\n",
    "elif (score >= 50):\n",
    "    grade = 'D'\n",
    "else:\n",
    "    grade = 'F'\n",
    "print(grade)"
   ]
  },
  {
   "cell_type": "code",
   "execution_count": null,
   "metadata": {},
   "outputs": [],
   "source": []
  }
 ],
 "metadata": {
  "kernelspec": {
   "display_name": "Python 3",
   "language": "python",
   "name": "python3"
  },
  "language_info": {
   "codemirror_mode": {
    "name": "ipython",
    "version": 3
   },
   "file_extension": ".py",
   "mimetype": "text/x-python",
   "name": "python",
   "nbconvert_exporter": "python",
   "pygments_lexer": "ipython3",
   "version": "3.7.4"
  }
 },
 "nbformat": 4,
 "nbformat_minor": 2
}
