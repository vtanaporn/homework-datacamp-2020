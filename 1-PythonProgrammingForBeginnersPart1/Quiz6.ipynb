{
 "cells": [
  {
   "cell_type": "code",
   "execution_count": 1,
   "metadata": {},
   "outputs": [],
   "source": [
    "##List Comprehension"
   ]
  },
  {
   "cell_type": "code",
   "execution_count": 2,
   "metadata": {},
   "outputs": [
    {
     "name": "stdout",
     "output_type": "stream",
     "text": [
      "[1, 3, 5, 7, 9]\n"
     ]
    }
   ],
   "source": [
    "# 6.1) กำหนดให้ lst = [1,2,3,4,5] จงเขียน List Comprehension เพื่อนำทุกตัวใน lst ไปคูณกับ 2 และลบด้วย 1 พร้อมกับแสดงผล\n",
    "\n",
    "lst = [1,2,3,4,5]\n",
    "lst2 = [x*2-1 for x in lst]\n",
    "print(lst2)"
   ]
  },
  {
   "cell_type": "code",
   "execution_count": 3,
   "metadata": {},
   "outputs": [
    {
     "name": "stdout",
     "output_type": "stream",
     "text": [
      "[1, 8, 64, 125, 343, 512, 1000, 1331, 2197]\n"
     ]
    }
   ],
   "source": [
    "# 6.2) กำหนดให้ lst = [1,2,3,4,5,6,7,8,9,10,11,12,13]\n",
    "# จงเขียน List Comprehension เพื่อหาตัวที่หาร 3 ไม่ลงตัว และนำผลลัพธ์นั้นยกกำลังสาม พร้อมกับแสดงผล\n",
    "\n",
    "lst = [1,2,3,4,5,6,7,8,9,10,11,12,13]\n",
    "lst2 = [x**3 for x in lst if x%3 != 0]\n",
    "print(lst2)"
   ]
  },
  {
   "cell_type": "code",
   "execution_count": null,
   "metadata": {},
   "outputs": [],
   "source": []
  }
 ],
 "metadata": {
  "kernelspec": {
   "display_name": "Python 3",
   "language": "python",
   "name": "python3"
  },
  "language_info": {
   "codemirror_mode": {
    "name": "ipython",
    "version": 3
   },
   "file_extension": ".py",
   "mimetype": "text/x-python",
   "name": "python",
   "nbconvert_exporter": "python",
   "pygments_lexer": "ipython3",
   "version": "3.7.4"
  }
 },
 "nbformat": 4,
 "nbformat_minor": 2
}
