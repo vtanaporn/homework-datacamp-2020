{
 "cells": [
  {
   "cell_type": "code",
   "execution_count": 1,
   "metadata": {},
   "outputs": [
    {
     "data": {
      "text/plain": [
       "6"
      ]
     },
     "execution_count": 1,
     "metadata": {},
     "output_type": "execute_result"
    }
   ],
   "source": [
    "a = [[[1,3],[3,4]],[5,[5,6],[7,8]]]\n",
    "a[1][1][1]"
   ]
  },
  {
   "cell_type": "code",
   "execution_count": 1,
   "metadata": {},
   "outputs": [
    {
     "data": {
      "text/plain": [
       "[['Tanaporn', ['Pantuprecharat'], 62.5],\n",
       " ['Prayut', ['Jan-O-Cha'], 75],\n",
       " ['Prawit', ['Wongsuwan'], 99],\n",
       " ['Soothichai', ['Yoon'], 59]]"
      ]
     },
     "execution_count": 1,
     "metadata": {},
     "output_type": "execute_result"
    }
   ],
   "source": [
    "name1=['Tanaporn',['Pantuprecharat'],62.5]\n",
    "name2=['Prayut',['Jan-O-Cha'],75]\n",
    "name3=['Prawit',['Wongsuwan'],99]\n",
    "name4=['Soothichai',['Yoon'],59]\n",
    "name_all = [name1, name2, name3, name4]\n",
    "name_all"
   ]
  },
  {
   "cell_type": "code",
   "execution_count": 2,
   "metadata": {},
   "outputs": [
    {
     "name": "stdout",
     "output_type": "stream",
     "text": [
      "[['Tanaporn', ['Pantuprecharat'], 62.5], ['Prayut', ['Jan-O-Cha'], 75], ['Prawit', ['Wongsuwan'], 99]]\n"
     ]
    }
   ],
   "source": [
    "del name_all[3]\n",
    "print(name_all)"
   ]
  },
  {
   "cell_type": "code",
   "execution_count": 3,
   "metadata": {},
   "outputs": [
    {
     "name": "stdout",
     "output_type": "stream",
     "text": [
      "[['Vikrom', 'Kromadis', 59], ['Tanaporn', ['Pantuprecharat'], 62.5], ['Prayut', ['Jan-O-Cha'], 75], ['Prawit', ['Wongsuwan'], 99]]\n"
     ]
    }
   ],
   "source": [
    "name5=['Vikrom','Kromadis',59]\n",
    "name_all.insert(0,name5)\n",
    "print(name_all)"
   ]
  },
  {
   "cell_type": "code",
   "execution_count": 4,
   "metadata": {},
   "outputs": [
    {
     "name": "stdout",
     "output_type": "stream",
     "text": [
      "[['Vikrom', 'Kromadis', 59], ['Tanaporn', ['Pantuprecharat'], 72.5], ['Prayut', ['Jan-O-Cha'], 75], ['Prawit', ['Wongsuwan'], 99]]\n"
     ]
    }
   ],
   "source": [
    "name_all[1][2]=name_all[1][2]+10\n",
    "print(name_all)"
   ]
  },
  {
   "cell_type": "code",
   "execution_count": null,
   "metadata": {},
   "outputs": [],
   "source": []
  }
 ],
 "metadata": {
  "kernelspec": {
   "display_name": "Python 3",
   "language": "python",
   "name": "python3"
  },
  "language_info": {
   "codemirror_mode": {
    "name": "ipython",
    "version": 3
   },
   "file_extension": ".py",
   "mimetype": "text/x-python",
   "name": "python",
   "nbconvert_exporter": "python",
   "pygments_lexer": "ipython3",
   "version": "3.7.4"
  }
 },
 "nbformat": 4,
 "nbformat_minor": 2
}
