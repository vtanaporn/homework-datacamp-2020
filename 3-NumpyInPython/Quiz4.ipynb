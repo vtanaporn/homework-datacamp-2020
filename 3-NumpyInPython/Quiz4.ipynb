{
 "cells": [
  {
   "cell_type": "code",
   "execution_count": 1,
   "metadata": {},
   "outputs": [],
   "source": [
    "# Quiz4 ทำเหมือนข้อ 3 แต่เขียนแบบ List comprehension"
   ]
  },
  {
   "cell_type": "code",
   "execution_count": 3,
   "metadata": {},
   "outputs": [
    {
     "name": "stdout",
     "output_type": "stream",
     "text": [
      "lst =  [89 42 20 71 17 42 15 76 50 31 74 47 41 92 55 14 24 12 75 19]\n",
      "lstPower2 =  [7921, 1764, 400, 5041, 289, 1764, 225, 5776, 2500, 961, 5476, 2209, 1681, 8464, 3025, 196, 576, 144, 5625, 361]\n"
     ]
    }
   ],
   "source": [
    "import numpy as np\n",
    "\n",
    "lst = np.random.randint(10, 100, 20)\n",
    "#lst = [1,2,3,4,5,6,7,8,9,10]\n",
    "lstPower2 = [i**2 for i in lst]\n",
    "print(\"lst = \", lst)\n",
    "print(\"lstPower2 = \", lstPower2)"
   ]
  },
  {
   "cell_type": "code",
   "execution_count": null,
   "metadata": {},
   "outputs": [],
   "source": []
  }
 ],
 "metadata": {
  "kernelspec": {
   "display_name": "Python 3",
   "language": "python",
   "name": "python3"
  },
  "language_info": {
   "codemirror_mode": {
    "name": "ipython",
    "version": 3
   },
   "file_extension": ".py",
   "mimetype": "text/x-python",
   "name": "python",
   "nbconvert_exporter": "python",
   "pygments_lexer": "ipython3",
   "version": "3.7.4"
  }
 },
 "nbformat": 4,
 "nbformat_minor": 2
}
