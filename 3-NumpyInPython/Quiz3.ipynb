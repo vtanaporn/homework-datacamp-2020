{
 "cells": [
  {
   "cell_type": "code",
   "execution_count": 1,
   "metadata": {},
   "outputs": [],
   "source": [
    "# Quiz3 จงเขียน array ที่มีเป็นการ random ตัวเลข 20 ตัว แบบ float ค่าอยู่ในช่วง 10-99 แล้วนำแต่ละเลขยกกำลังสอง"
   ]
  },
  {
   "cell_type": "code",
   "execution_count": 2,
   "metadata": {},
   "outputs": [],
   "source": [
    "import numpy as np"
   ]
  },
  {
   "cell_type": "code",
   "execution_count": 20,
   "metadata": {},
   "outputs": [
    {
     "name": "stdout",
     "output_type": "stream",
     "text": [
      "[x]=\n",
      " [45.57258113 39.30788436 24.13203928 11.20884566 76.08567983 90.81393033\n",
      " 76.55672802 48.54685021 52.05918854 13.77483013 77.77741413 33.06093694\n",
      " 20.24315362 95.73837673 54.397668   56.28341782 98.02044786 54.56033346\n",
      " 12.84427721 60.70277445]\n"
     ]
    }
   ],
   "source": [
    "x = (99-10) * np.random.random_sample(20) + 10\n",
    "print(\"[x]=\\n\", x)"
   ]
  },
  {
   "cell_type": "code",
   "execution_count": 21,
   "metadata": {},
   "outputs": [
    {
     "name": "stdout",
     "output_type": "stream",
     "text": [
      "Array of power 2 of x =  [2076.86015122 1545.10977283  582.35531975  125.63822106 5789.03067533\n",
      " 8247.16994118 5860.93260582 2356.79666567 2710.15911174  189.74594524\n",
      " 6049.32614848 1093.02555109  409.78526837 9165.8367796  2959.10628355\n",
      " 3167.82312179 9608.00819776 2976.829987    164.97545713 3684.82682653]\n"
     ]
    }
   ],
   "source": [
    "power2ofX = x**2\n",
    "print(\"Array of power 2 of x = \", power2ofX)"
   ]
  }
 ],
 "metadata": {
  "kernelspec": {
   "display_name": "Python 3",
   "language": "python",
   "name": "python3"
  },
  "language_info": {
   "codemirror_mode": {
    "name": "ipython",
    "version": 3
   },
   "file_extension": ".py",
   "mimetype": "text/x-python",
   "name": "python",
   "nbconvert_exporter": "python",
   "pygments_lexer": "ipython3",
   "version": "3.7.4"
  }
 },
 "nbformat": 4,
 "nbformat_minor": 2
}
