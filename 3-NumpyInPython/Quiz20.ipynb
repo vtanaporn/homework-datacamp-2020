{
 "cells": [
  {
   "cell_type": "code",
   "execution_count": null,
   "metadata": {},
   "outputs": [],
   "source": [
    "# Quiz20 เขียนโปรแกรมรับค่าจากผู้ใช้ให้ป้อนเลข 9 ตัว แต่ละตัวต้องไม่ซ้ำกันและมีค่าอยู่ในช่วง 10-100 \n",
    "#  นำเลข 9 ตัวนั้นมาทำเป็น matrix 3x3 และ transport และหาเลขอยู่ตำแหน่งที่ (2,2)"
   ]
  },
  {
   "cell_type": "code",
   "execution_count": 6,
   "metadata": {},
   "outputs": [
    {
     "name": "stdout",
     "output_type": "stream",
     "text": [
      "Please input integer number#1 [10,100]\n",
      "10\n",
      "Please input integer number#2 [10,100]\n",
      "20\n",
      "Please input integer number#3 [10,100]\n",
      "30\n",
      "Please input integer number#4 [10,100]\n",
      "40\n",
      "Please input integer number#5 [10,100]\n",
      "50\n",
      "Please input integer number#6 [10,100]\n",
      "60\n",
      "Please input integer number#7 [10,100]\n",
      "70\n",
      "Please input integer number#8 [10,100]\n",
      "80\n",
      "Please input integer number#9 [10,100]\n",
      "90\n",
      "x:\n",
      "[10. 20. 30. 40. 50. 60. 70. 80. 90.]\n",
      "Matrix x 3x3:\n",
      "[[10. 20. 30.]\n",
      " [40. 50. 60.]\n",
      " [70. 80. 90.]]\n",
      "Matrix x transposed\n",
      "[[10. 40. 70.]\n",
      " [20. 50. 80.]\n",
      " [30. 60. 90.]]\n"
     ]
    }
   ],
   "source": [
    "import numpy as np\n",
    "\n",
    "count=0\n",
    "x=np.zeros(9)\n",
    "while (count<9):\n",
    "    print(\"Please input integer number#{} [10,100]\".format(count+1) )\n",
    "    num = int(input())\n",
    "    if (num >= 10 and num <=100):\n",
    "        x[count]=num\n",
    "        count+=1\n",
    "\n",
    "print(\"x:\")\n",
    "print(x)\n",
    "\n",
    "x_new = x.reshape(3,3)\n",
    "print(\"Matrix x 3x3:\")\n",
    "print(x_new)\n",
    "\n",
    "x_transpose = x_new.T\n",
    "print(\"Matrix x transposed\")\n",
    "print(x_transpose)"
   ]
  },
  {
   "cell_type": "code",
   "execution_count": null,
   "metadata": {},
   "outputs": [],
   "source": []
  }
 ],
 "metadata": {
  "kernelspec": {
   "display_name": "Python 3",
   "language": "python",
   "name": "python3"
  },
  "language_info": {
   "codemirror_mode": {
    "name": "ipython",
    "version": 3
   },
   "file_extension": ".py",
   "mimetype": "text/x-python",
   "name": "python",
   "nbconvert_exporter": "python",
   "pygments_lexer": "ipython3",
   "version": "3.7.4"
  }
 },
 "nbformat": 4,
 "nbformat_minor": 2
}
