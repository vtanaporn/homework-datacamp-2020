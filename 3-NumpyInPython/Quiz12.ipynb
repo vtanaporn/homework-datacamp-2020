{
 "cells": [
  {
   "cell_type": "code",
   "execution_count": 1,
   "metadata": {},
   "outputs": [],
   "source": [
    "#Quiz12 จงเขียนฟังก์ชั่นที่ random ตัวเลขแบบ int ในช่วง 50-100 โดยให้อยู่ในรูป Matrix 4x4 และ Transpose"
   ]
  },
  {
   "cell_type": "code",
   "execution_count": 14,
   "metadata": {},
   "outputs": [
    {
     "name": "stdout",
     "output_type": "stream",
     "text": [
      "Random Matrix = \n",
      "[[59 75 89 84]\n",
      " [71 58 88 64]\n",
      " [71 64 99 72]\n",
      " [63 70 91 63]]\n",
      "Transpose of matrix = \n",
      "[[59 71 71 63]\n",
      " [75 58 64 70]\n",
      " [89 88 99 91]\n",
      " [84 64 72 63]]\n"
     ]
    }
   ],
   "source": [
    "import numpy as np\n",
    "\n",
    "mtrx=np.random.randint(50, 101, (4,4))\n",
    "print(\"Random Matrix = \")\n",
    "print(mtrx)\n",
    "print(\"Transpose of matrix = \")\n",
    "print(mtrx.T)"
   ]
  }
 ],
 "metadata": {
  "kernelspec": {
   "display_name": "Python 3",
   "language": "python",
   "name": "python3"
  },
  "language_info": {
   "codemirror_mode": {
    "name": "ipython",
    "version": 3
   },
   "file_extension": ".py",
   "mimetype": "text/x-python",
   "name": "python",
   "nbconvert_exporter": "python",
   "pygments_lexer": "ipython3",
   "version": "3.7.4"
  }
 },
 "nbformat": 4,
 "nbformat_minor": 2
}
