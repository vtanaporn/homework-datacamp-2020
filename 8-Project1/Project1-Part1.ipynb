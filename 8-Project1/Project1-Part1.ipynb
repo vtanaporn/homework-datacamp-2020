{
 "cells": [
  {
   "cell_type": "markdown",
   "metadata": {},
   "source": [
    "# Project 1 Part 1"
   ]
  },
  {
   "cell_type": "markdown",
   "metadata": {},
   "source": [
    "### Quiz1 จงเขียนโปรแกรมรับค่า Input จากผู้ใช้ ถ้าผู้ใช้ใส่ 0.0 จึงจะสิ้นสุดโปรแกรม คำนวณหาค่าเฉลี่ยของเลขทั้งหมดที่ผู้ใช้ใส่ และปริ้นค่าเฉลี่ยคูณด้วยจำนวนครั้งที่ใส่ทั้งหมด"
   ]
  },
  {
   "cell_type": "code",
   "execution_count": 1,
   "metadata": {},
   "outputs": [
    {
     "name": "stdout",
     "output_type": "stream",
     "text": [
      "Please input series of numbers to find the average [or input 0 to quit]: 1\n",
      "Please input series of numbers to find the average [or input 0 to quit]: 2\n",
      "Please input series of numbers to find the average [or input 0 to quit]: 0\n",
      "Average of numbers =  1.5\n"
     ]
    }
   ],
   "source": [
    "sum = 0\n",
    "count = 0\n",
    "\n",
    "while True:\n",
    "    number = float(input('Please input series of numbers to find the average [or input 0 to quit]: '))\n",
    "    sum=sum+number\n",
    "    if(number == 0.0):\n",
    "        break\n",
    "    count=count+1\n",
    "average = sum/count\n",
    "print(\"Average of numbers = \", average)"
   ]
  },
  {
   "cell_type": "markdown",
   "metadata": {},
   "source": [
    "### Quiz2 จงเขียนโปรแกรมให้ผู้ใช้ใส่เลข ขอบเขตล่าง และ ขอบเขตบน และคำนวณหาเลขจำนวนเฉพาะ (Prime Number) ที่อยู่ระหว่างขอบเขตล่างและขอบเขตบน"
   ]
  },
  {
   "cell_type": "code",
   "execution_count": 2,
   "metadata": {},
   "outputs": [
    {
     "name": "stdout",
     "output_type": "stream",
     "text": [
      "Enter lower range: 1\n",
      "Enter upper range: 30\n",
      "2\n",
      "3\n",
      "5\n",
      "7\n",
      "11\n",
      "13\n",
      "17\n",
      "19\n",
      "23\n",
      "29\n"
     ]
    }
   ],
   "source": [
    "#Take the input from the user:\n",
    "lower = int(input(\"Enter lower range: \"))\n",
    "upper = int(input(\"Enter upper range: \"))\n",
    "  \n",
    "for num in range(lower,upper + 1):\n",
    "   if num > 1:\n",
    "       for i in range(2,num):\n",
    "           if (num % i) == 0:\n",
    "               break\n",
    "       else:\n",
    "           print(num)"
   ]
  }
 ],
 "metadata": {
  "kernelspec": {
   "display_name": "Python 3",
   "language": "python",
   "name": "python3"
  },
  "language_info": {
   "codemirror_mode": {
    "name": "ipython",
    "version": 3
   },
   "file_extension": ".py",
   "mimetype": "text/x-python",
   "name": "python",
   "nbconvert_exporter": "python",
   "pygments_lexer": "ipython3",
   "version": "3.7.4"
  }
 },
 "nbformat": 4,
 "nbformat_minor": 2
}
