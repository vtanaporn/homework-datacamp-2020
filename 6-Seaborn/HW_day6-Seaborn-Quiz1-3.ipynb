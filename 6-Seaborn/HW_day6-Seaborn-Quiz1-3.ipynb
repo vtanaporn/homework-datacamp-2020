{
 "cells": [
  {
   "cell_type": "code",
   "execution_count": 2,
   "metadata": {},
   "outputs": [],
   "source": [
    "import numpy as np\n",
    "import pandas as pd\n",
    "import matplotlib.pyplot as plt\n",
    "import seaborn as sns\n",
    "%matplotlib inline"
   ]
  },
  {
   "cell_type": "markdown",
   "metadata": {},
   "source": [
    "### Quiz1 สร้าง DataFrame ที่เก็บยอดขายของบริษัท A,B,C,D ของปี 2014,2015,2016,2017 โดยชื่อบริษัทเป็น index และปีเป็น column. สร้างคำสั่ง numpy สุ่มเลขแบบ float ให้เป็นรายได้ของบริษัทที่อยู่ในช่วง 50 – 500 (หน่วยล้านบาท)"
   ]
  },
  {
   "cell_type": "code",
   "execution_count": 3,
   "metadata": {},
   "outputs": [
    {
     "data": {
      "text/html": [
       "<div>\n",
       "<style scoped>\n",
       "    .dataframe tbody tr th:only-of-type {\n",
       "        vertical-align: middle;\n",
       "    }\n",
       "\n",
       "    .dataframe tbody tr th {\n",
       "        vertical-align: top;\n",
       "    }\n",
       "\n",
       "    .dataframe thead th {\n",
       "        text-align: right;\n",
       "    }\n",
       "</style>\n",
       "<table border=\"1\" class=\"dataframe\">\n",
       "  <thead>\n",
       "    <tr style=\"text-align: right;\">\n",
       "      <th></th>\n",
       "      <th>2014</th>\n",
       "      <th>2015</th>\n",
       "      <th>2016</th>\n",
       "      <th>2017</th>\n",
       "    </tr>\n",
       "  </thead>\n",
       "  <tbody>\n",
       "    <tr>\n",
       "      <td>A</td>\n",
       "      <td>139.793709</td>\n",
       "      <td>188.357437</td>\n",
       "      <td>175.874964</td>\n",
       "      <td>96.526039</td>\n",
       "    </tr>\n",
       "    <tr>\n",
       "      <td>B</td>\n",
       "      <td>323.319954</td>\n",
       "      <td>318.121746</td>\n",
       "      <td>212.858893</td>\n",
       "      <td>292.083078</td>\n",
       "    </tr>\n",
       "    <tr>\n",
       "      <td>C</td>\n",
       "      <td>75.355095</td>\n",
       "      <td>434.636989</td>\n",
       "      <td>446.424975</td>\n",
       "      <td>166.653513</td>\n",
       "    </tr>\n",
       "    <tr>\n",
       "      <td>D</td>\n",
       "      <td>493.774470</td>\n",
       "      <td>308.928882</td>\n",
       "      <td>79.219943</td>\n",
       "      <td>278.731871</td>\n",
       "    </tr>\n",
       "  </tbody>\n",
       "</table>\n",
       "</div>"
      ],
      "text/plain": [
       "         2014        2015        2016        2017\n",
       "A  139.793709  188.357437  175.874964   96.526039\n",
       "B  323.319954  318.121746  212.858893  292.083078\n",
       "C   75.355095  434.636989  446.424975  166.653513\n",
       "D  493.774470  308.928882   79.219943  278.731871"
      ]
     },
     "execution_count": 3,
     "metadata": {},
     "output_type": "execute_result"
    }
   ],
   "source": [
    "# Random Company's sale income in range 50 - 500\n",
    "sales = (500-50) * np.random.random_sample((4,4)) + 50\n",
    "\n",
    "company_name = ['A', 'B', 'C', 'D']\n",
    "\n",
    "year = ['2014', '2015', '2016', '2017']\n",
    "\n",
    "df = pd.DataFrame(sales, company_name, year)\n",
    "df"
   ]
  },
  {
   "cell_type": "code",
   "execution_count": 4,
   "metadata": {},
   "outputs": [
    {
     "data": {
      "text/plain": [
       "Index(['A', 'B', 'C', 'D'], dtype='object')"
      ]
     },
     "execution_count": 4,
     "metadata": {},
     "output_type": "execute_result"
    }
   ],
   "source": [
    "df.index"
   ]
  },
  {
   "cell_type": "code",
   "execution_count": 5,
   "metadata": {},
   "outputs": [
    {
     "data": {
      "text/plain": [
       "Index(['2014', '2015', '2016', '2017'], dtype='object')"
      ]
     },
     "execution_count": 5,
     "metadata": {},
     "output_type": "execute_result"
    }
   ],
   "source": [
    "df.columns"
   ]
  },
  {
   "cell_type": "code",
   "execution_count": 6,
   "metadata": {},
   "outputs": [
    {
     "data": {
      "text/plain": [
       "array([[139.79370915, 188.35743744, 175.87496431,  96.52603924],\n",
       "       [323.31995363, 318.12174583, 212.85889341, 292.08307795],\n",
       "       [ 75.35509454, 434.63698909, 446.42497534, 166.65351325],\n",
       "       [493.77446965, 308.92888158,  79.21994271, 278.73187124]])"
      ]
     },
     "execution_count": 6,
     "metadata": {},
     "output_type": "execute_result"
    }
   ],
   "source": [
    "df.values"
   ]
  },
  {
   "cell_type": "markdown",
   "metadata": {},
   "source": [
    "### Quiz2 ใช้ข้อมูลจาก DataFrame ด้านบนสร้าง Bar plot ให้แกน x เป็น ชื่อบริษัท ยอดขายเฉลี่ยเป็นแกน Y โดยสร้างกราฟแบบแนวตั้งและแนวนอน"
   ]
  },
  {
   "cell_type": "code",
   "execution_count": 7,
   "metadata": {},
   "outputs": [
    {
     "data": {
      "text/html": [
       "<div>\n",
       "<style scoped>\n",
       "    .dataframe tbody tr th:only-of-type {\n",
       "        vertical-align: middle;\n",
       "    }\n",
       "\n",
       "    .dataframe tbody tr th {\n",
       "        vertical-align: top;\n",
       "    }\n",
       "\n",
       "    .dataframe thead th {\n",
       "        text-align: right;\n",
       "    }\n",
       "</style>\n",
       "<table border=\"1\" class=\"dataframe\">\n",
       "  <thead>\n",
       "    <tr style=\"text-align: right;\">\n",
       "      <th></th>\n",
       "      <th>A</th>\n",
       "      <th>B</th>\n",
       "      <th>C</th>\n",
       "      <th>D</th>\n",
       "    </tr>\n",
       "  </thead>\n",
       "  <tbody>\n",
       "    <tr>\n",
       "      <td>2014</td>\n",
       "      <td>139.793709</td>\n",
       "      <td>188.357437</td>\n",
       "      <td>175.874964</td>\n",
       "      <td>96.526039</td>\n",
       "    </tr>\n",
       "    <tr>\n",
       "      <td>2015</td>\n",
       "      <td>323.319954</td>\n",
       "      <td>318.121746</td>\n",
       "      <td>212.858893</td>\n",
       "      <td>292.083078</td>\n",
       "    </tr>\n",
       "    <tr>\n",
       "      <td>2016</td>\n",
       "      <td>75.355095</td>\n",
       "      <td>434.636989</td>\n",
       "      <td>446.424975</td>\n",
       "      <td>166.653513</td>\n",
       "    </tr>\n",
       "    <tr>\n",
       "      <td>2017</td>\n",
       "      <td>493.774470</td>\n",
       "      <td>308.928882</td>\n",
       "      <td>79.219943</td>\n",
       "      <td>278.731871</td>\n",
       "    </tr>\n",
       "  </tbody>\n",
       "</table>\n",
       "</div>"
      ],
      "text/plain": [
       "               A           B           C           D\n",
       "2014  139.793709  188.357437  175.874964   96.526039\n",
       "2015  323.319954  318.121746  212.858893  292.083078\n",
       "2016   75.355095  434.636989  446.424975  166.653513\n",
       "2017  493.774470  308.928882   79.219943  278.731871"
      ]
     },
     "execution_count": 7,
     "metadata": {},
     "output_type": "execute_result"
    }
   ],
   "source": [
    "# df2 is the transposition of df1\n",
    "df2 = pd.DataFrame(sales, year, company_name)\n",
    "df2"
   ]
  },
  {
   "cell_type": "code",
   "execution_count": 8,
   "metadata": {},
   "outputs": [
    {
     "data": {
      "text/plain": [
       "A    217.673379\n",
       "B    247.460952\n",
       "C    191.416863\n",
       "D    168.557278\n",
       "dtype: float64"
      ]
     },
     "execution_count": 8,
     "metadata": {},
     "output_type": "execute_result"
    }
   ],
   "source": [
    "# Find average of each company\n",
    "series_company_sales_avrg = df2.describe().mean()\n",
    "series_company_sales_avrg"
   ]
  },
  {
   "cell_type": "code",
   "execution_count": 9,
   "metadata": {},
   "outputs": [
    {
     "data": {
      "text/plain": [
       "pandas.core.series.Series"
      ]
     },
     "execution_count": 9,
     "metadata": {},
     "output_type": "execute_result"
    }
   ],
   "source": [
    "type(series_company_sales_avrg)"
   ]
  },
  {
   "cell_type": "code",
   "execution_count": 10,
   "metadata": {},
   "outputs": [
    {
     "data": {
      "text/plain": [
       "[Text(0, 0.5, 'Sales (million baht)'),\n",
       " Text(0.5, 0, 'Company'),\n",
       " Text(0.5, 1.0, 'Sales Average of year 2014-2017')]"
      ]
     },
     "execution_count": 10,
     "metadata": {},
     "output_type": "execute_result"
    },
    {
     "data": {
      "image/png": "[encoded data removed]",
      "text/plain": [
       "<Figure size 432x288 with 1 Axes>"
      ]
     },
     "metadata": {
      "needs_background": "light"
     },
     "output_type": "display_data"
    }
   ],
   "source": [
    "# Vertical graph\n",
    "index=series_company_sales_avrg.index\n",
    "values=series_company_sales_avrg.values\n",
    "sns.barplot(index,values).set(title = 'Sales Average of year 2014-2017', xlabel = 'Company', ylabel = 'Sales (million baht)' )"
   ]
  },
  {
   "cell_type": "code",
   "execution_count": 11,
   "metadata": {},
   "outputs": [
    {
     "data": {
      "text/plain": [
       "[Text(0, 0.5, 'Company'),\n",
       " Text(0.5, 0, 'Sales (million baht)'),\n",
       " Text(0.5, 1.0, 'Sales Average of year 2014-2017')]"
      ]
     },
     "execution_count": 11,
     "metadata": {},
     "output_type": "execute_result"
    },
    {
     "data": {
      "image/png": "[encoded data removed]",
      "text/plain": [
       "<Figure size 432x288 with 1 Axes>"
      ]
     },
     "metadata": {
      "needs_background": "light"
     },
     "output_type": "display_data"
    }
   ],
   "source": [
    "# Horizontal graph\n",
    "sns.barplot(values, index).set(title = 'Sales Average of year 2014-2017', xlabel = 'Sales (million baht)', ylabel = 'Company' )"
   ]
  },
  {
   "cell_type": "markdown",
   "metadata": {},
   "source": [
    "### Quiz3 ใช้ข้อมูลจาก DataFrame ด้านบนสร้าง Scatter plot ให้แกน x เป็น ชื่อบริษัท ยอดขายปี 2017 เป็นแกน Y โดยสร้างกราฟแบบแนวตั้งและแนวนอน"
   ]
  },
  {
   "cell_type": "code",
   "execution_count": 22,
   "metadata": {},
   "outputs": [
    {
     "name": "stdout",
     "output_type": "stream",
     "text": [
      "index =  Index(['A', 'B', 'C', 'D'], dtype='object')\n",
      "Sales of 2017 =\n",
      " A     96.526039\n",
      "B    292.083078\n",
      "C    166.653513\n",
      "D    278.731871\n",
      "Name: 2017, dtype: float64\n"
     ]
    }
   ],
   "source": [
    "index=df.index\n",
    "print('I\n",
    "      ndex = ', index)\n",
    "values=df['2017']\n",
    "print('Sales of 2017 =\\n',values)"
   ]
  },
  {
   "cell_type": "code",
   "execution_count": 13,
   "metadata": {},
   "outputs": [
    {
     "data": {
      "text/plain": [
       "[Text(0, 0.5, 'Sales (million baht)'),\n",
       " Text(0.5, 0, 'Company'),\n",
       " Text(0.5, 1.0, 'Sales Average of year 2017')]"
      ]
     },
     "execution_count": 13,
     "metadata": {},
     "output_type": "execute_result"
    },
    {
     "data": {
      "image/png": "[encoded data removed]",
      "text/plain": [
       "<Figure size 432x288 with 1 Axes>"
      ]
     },
     "metadata": {
      "needs_background": "light"
     },
     "output_type": "display_data"
    }
   ],
   "source": [
    "# Vertical graph\n",
    "sns.scatterplot(index,values).set(title = 'Sales Average of year 2017', xlabel = 'Company', ylabel = 'Sales (million baht)' )"
   ]
  },
  {
   "cell_type": "code",
   "execution_count": 23,
   "metadata": {},
   "outputs": [
    {
     "data": {
      "text/plain": [
       "[Text(0, 0.5, 'Company'),\n",
       " Text(0.5, 0, 'Sales (million baht)'),\n",
       " Text(0.5, 1.0, 'Sales Average of year 2017')]"
      ]
     },
     "execution_count": 23,
     "metadata": {},
     "output_type": "execute_result"
    },
    {
     "data": {
      "image/png": "[encoded data removed]",
      "text/plain": [
       "<Figure size 432x288 with 1 Axes>"
      ]
     },
     "metadata": {
      "needs_background": "light"
     },
     "output_type": "display_data"
    }
   ],
   "source": [
    "# Horizontal graph\n",
    "sns.scatterplot(values, index).set(title = 'Sales Average of year 2017', xlabel = 'Sales (million baht)', ylabel = 'Company' )"
   ]
  },
  {
   "cell_type": "code",
   "execution_count": null,
   "metadata": {},
   "outputs": [],
   "source": []
  }
 ],
 "metadata": {
  "kernelspec": {
   "display_name": "Python 3",
   "language": "python",
   "name": "python3"
  },
  "language_info": {
   "codemirror_mode": {
    "name": "ipython",
    "version": 3
   },
   "file_extension": ".py",
   "mimetype": "text/x-python",
   "name": "python",
   "nbconvert_exporter": "python",
   "pygments_lexer": "ipython3",
   "version": "3.7.4"
  }
 },
 "nbformat": 4,
 "nbformat_minor": 2
}
