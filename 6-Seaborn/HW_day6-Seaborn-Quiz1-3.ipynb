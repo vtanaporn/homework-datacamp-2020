{
 "cells": [
  {
   "cell_type": "code",
   "execution_count": 2,
   "metadata": {},
   "outputs": [],
   "source": [
    "import numpy as np\n",
    "import pandas as pd\n",
    "import matplotlib.pyplot as plt\n",
    "import seaborn as sns\n",
    "%matplotlib inline"
   ]
  },
  {
   "cell_type": "markdown",
   "metadata": {},
   "source": [
    "### Quiz1 สร้าง DataFrame ที่เก็บยอดขายของบริษัท A,B,C,D ของปี 2014,2015,2016,2017 โดยชื่อบริษัทเป็น index และปีเป็น column. สร้างคำสั่ง numpy สุ่มเลขแบบ float ให้เป็นรายได้ของบริษัทที่อยู่ในช่วง 50 – 500 (หน่วยล้านบาท)"
   ]
  },
  {
   "cell_type": "code",
   "execution_count": 3,
   "metadata": {},
   "outputs": [
    {
     "data": {
      "text/html": [
       "<div>\n",
       "<style scoped>\n",
       "    .dataframe tbody tr th:only-of-type {\n",
       "        vertical-align: middle;\n",
       "    }\n",
       "\n",
       "    .dataframe tbody tr th {\n",
       "        vertical-align: top;\n",
       "    }\n",
       "\n",
       "    .dataframe thead th {\n",
       "        text-align: right;\n",
       "    }\n",
       "</style>\n",
       "<table border=\"1\" class=\"dataframe\">\n",
       "  <thead>\n",
       "    <tr style=\"text-align: right;\">\n",
       "      <th></th>\n",
       "      <th>2014</th>\n",
       "      <th>2015</th>\n",
       "      <th>2016</th>\n",
       "      <th>2017</th>\n",
       "    </tr>\n",
       "  </thead>\n",
       "  <tbody>\n",
       "    <tr>\n",
       "      <td>A</td>\n",
       "      <td>436.316506</td>\n",
       "      <td>311.956110</td>\n",
       "      <td>495.194701</td>\n",
       "      <td>50.164906</td>\n",
       "    </tr>\n",
       "    <tr>\n",
       "      <td>B</td>\n",
       "      <td>89.960990</td>\n",
       "      <td>235.865421</td>\n",
       "      <td>437.437913</td>\n",
       "      <td>464.929277</td>\n",
       "    </tr>\n",
       "    <tr>\n",
       "      <td>C</td>\n",
       "      <td>312.058059</td>\n",
       "      <td>161.308354</td>\n",
       "      <td>124.444066</td>\n",
       "      <td>302.288286</td>\n",
       "    </tr>\n",
       "    <tr>\n",
       "      <td>D</td>\n",
       "      <td>468.590877</td>\n",
       "      <td>453.944399</td>\n",
       "      <td>161.439952</td>\n",
       "      <td>265.099071</td>\n",
       "    </tr>\n",
       "  </tbody>\n",
       "</table>\n",
       "</div>"
      ],
      "text/plain": [
       "         2014        2015        2016        2017\n",
       "A  436.316506  311.956110  495.194701   50.164906\n",
       "B   89.960990  235.865421  437.437913  464.929277\n",
       "C  312.058059  161.308354  124.444066  302.288286\n",
       "D  468.590877  453.944399  161.439952  265.099071"
      ]
     },
     "execution_count": 3,
     "metadata": {},
     "output_type": "execute_result"
    }
   ],
   "source": [
    "# Random Company's sale income in range 50 - 500\n",
    "sales = (500-50) * np.random.random_sample((4,4)) + 50\n",
    "\n",
    "company_name = ['A', 'B', 'C', 'D']\n",
    "\n",
    "year = ['2014', '2015', '2016', '2017']\n",
    "\n",
    "df = pd.DataFrame(sales, company_name, year)\n",
    "df"
   ]
  },
  {
   "cell_type": "code",
   "execution_count": 4,
   "metadata": {},
   "outputs": [
    {
     "data": {
      "text/plain": [
       "Index(['A', 'B', 'C', 'D'], dtype='object')"
      ]
     },
     "execution_count": 4,
     "metadata": {},
     "output_type": "execute_result"
    }
   ],
   "source": [
    "df.index"
   ]
  },
  {
   "cell_type": "code",
   "execution_count": 5,
   "metadata": {},
   "outputs": [
    {
     "data": {
      "text/plain": [
       "Index(['2014', '2015', '2016', '2017'], dtype='object')"
      ]
     },
     "execution_count": 5,
     "metadata": {},
     "output_type": "execute_result"
    }
   ],
   "source": [
    "df.columns"
   ]
  },
  {
   "cell_type": "code",
   "execution_count": 6,
   "metadata": {},
   "outputs": [
    {
     "data": {
      "text/plain": [
       "array([[436.31650593, 311.95610985, 495.19470123,  50.16490572],\n",
       "       [ 89.96098978, 235.86542065, 437.43791279, 464.92927664],\n",
       "       [312.05805918, 161.30835377, 124.44406556, 302.288286  ],\n",
       "       [468.59087681, 453.94439906, 161.43995169, 265.09907105]])"
      ]
     },
     "execution_count": 6,
     "metadata": {},
     "output_type": "execute_result"
    }
   ],
   "source": [
    "df.values"
   ]
  },
  {
   "cell_type": "markdown",
   "metadata": {},
   "source": [
    "### Quiz2 ใช้ข้อมูลจาก DataFrame ด้านบนสร้าง Bar plot ให้แกน x เป็น ชื่อบริษัท ยอดขายเฉลี่ยเป็นแกน Y โดยสร้างกราฟแบบแนวตั้งและแนวนอน"
   ]
  },
  {
   "cell_type": "code",
   "execution_count": 7,
   "metadata": {},
   "outputs": [
    {
     "data": {
      "text/html": [
       "<div>\n",
       "<style scoped>\n",
       "    .dataframe tbody tr th:only-of-type {\n",
       "        vertical-align: middle;\n",
       "    }\n",
       "\n",
       "    .dataframe tbody tr th {\n",
       "        vertical-align: top;\n",
       "    }\n",
       "\n",
       "    .dataframe thead th {\n",
       "        text-align: right;\n",
       "    }\n",
       "</style>\n",
       "<table border=\"1\" class=\"dataframe\">\n",
       "  <thead>\n",
       "    <tr style=\"text-align: right;\">\n",
       "      <th></th>\n",
       "      <th>A</th>\n",
       "      <th>B</th>\n",
       "      <th>C</th>\n",
       "      <th>D</th>\n",
       "    </tr>\n",
       "  </thead>\n",
       "  <tbody>\n",
       "    <tr>\n",
       "      <td>2014</td>\n",
       "      <td>436.316506</td>\n",
       "      <td>311.956110</td>\n",
       "      <td>495.194701</td>\n",
       "      <td>50.164906</td>\n",
       "    </tr>\n",
       "    <tr>\n",
       "      <td>2015</td>\n",
       "      <td>89.960990</td>\n",
       "      <td>235.865421</td>\n",
       "      <td>437.437913</td>\n",
       "      <td>464.929277</td>\n",
       "    </tr>\n",
       "    <tr>\n",
       "      <td>2016</td>\n",
       "      <td>312.058059</td>\n",
       "      <td>161.308354</td>\n",
       "      <td>124.444066</td>\n",
       "      <td>302.288286</td>\n",
       "    </tr>\n",
       "    <tr>\n",
       "      <td>2017</td>\n",
       "      <td>468.590877</td>\n",
       "      <td>453.944399</td>\n",
       "      <td>161.439952</td>\n",
       "      <td>265.099071</td>\n",
       "    </tr>\n",
       "  </tbody>\n",
       "</table>\n",
       "</div>"
      ],
      "text/plain": [
       "               A           B           C           D\n",
       "2014  436.316506  311.956110  495.194701   50.164906\n",
       "2015   89.960990  235.865421  437.437913  464.929277\n",
       "2016  312.058059  161.308354  124.444066  302.288286\n",
       "2017  468.590877  453.944399  161.439952  265.099071"
      ]
     },
     "execution_count": 7,
     "metadata": {},
     "output_type": "execute_result"
    }
   ],
   "source": [
    "# df2 is the transposition of df1\n",
    "df2 = pd.DataFrame(sales, year, company_name)\n",
    "df2"
   ]
  },
  {
   "cell_type": "code",
   "execution_count": 8,
   "metadata": {},
   "outputs": [
    {
     "data": {
      "text/plain": [
       "A    267.007064\n",
       "B    234.197189\n",
       "C    252.570421\n",
       "D    224.799668\n",
       "dtype: float64"
      ]
     },
     "execution_count": 8,
     "metadata": {},
     "output_type": "execute_result"
    }
   ],
   "source": [
    "# Find average of each company\n",
    "series_company_sales_avrg = df2.describe().mean()\n",
    "series_company_sales_avrg"
   ]
  },
  {
   "cell_type": "code",
   "execution_count": 9,
   "metadata": {},
   "outputs": [
    {
     "data": {
      "text/plain": [
       "pandas.core.series.Series"
      ]
     },
     "execution_count": 9,
     "metadata": {},
     "output_type": "execute_result"
    }
   ],
   "source": [
    "type(series_company_sales_avrg)"
   ]
  },
  {
   "cell_type": "code",
   "execution_count": 10,
   "metadata": {},
   "outputs": [
    {
     "data": {
      "text/plain": [
       "[Text(0, 0.5, 'Sales (million baht)'),\n",
       " Text(0.5, 0, 'Company'),\n",
       " Text(0.5, 1.0, 'Sales Average of year 2014-2017')]"
      ]
     },
     "execution_count": 10,
     "metadata": {},
     "output_type": "execute_result"
    },
    {
     "data": {
      "image/png": "[encoded data removed]",
      "text/plain": [
       "<Figure size 432x288 with 1 Axes>"
      ]
     },
     "metadata": {
      "needs_background": "light"
     },
     "output_type": "display_data"
    }
   ],
   "source": [
    "# Vertical graph\n",
    "index=series_company_sales_avrg.index\n",
    "values=series_company_sales_avrg.values\n",
    "sns.barplot(index,values).set(title = 'Sales Average of year 2014-2017', xlabel = 'Company', ylabel = 'Sales (million baht)' )"
   ]
  },
  {
   "cell_type": "code",
   "execution_count": 11,
   "metadata": {},
   "outputs": [
    {
     "data": {
      "text/plain": [
       "[Text(0, 0.5, 'Company'),\n",
       " Text(0.5, 0, 'Sales (million baht)'),\n",
       " Text(0.5, 1.0, 'Sales Average of year 2014-2017')]"
      ]
     },
     "execution_count": 11,
     "metadata": {},
     "output_type": "execute_result"
    },
    {
     "data": {
      "image/png": "[encoded data removed]",
      "text/plain": [
       "<Figure size 432x288 with 1 Axes>"
      ]
     },
     "metadata": {
      "needs_background": "light"
     },
     "output_type": "display_data"
    }
   ],
   "source": [
    "# Horizontal graph\n",
    "sns.barplot(values, index).set(title = 'Sales Average of year 2014-2017', xlabel = 'Sales (million baht)', ylabel = 'Company' )"
   ]
  },
  {
   "cell_type": "markdown",
   "metadata": {},
   "source": [
    "### Quiz3 ใช้ข้อมูลจาก DataFrame ด้านบนสร้าง Scatter plot ให้แกน x เป็น ชื่อบริษัท ยอดขายปี 2017 เป็นแกน Y โดยสร้างกราฟแบบแนวตั้งและแนวนอน"
   ]
  },
  {
   "cell_type": "code",
   "execution_count": 12,
   "metadata": {},
   "outputs": [
    {
     "data": {
      "text/plain": [
       "[Text(0, 0.5, 'Sales (million baht)'),\n",
       " Text(0.5, 0, 'Company'),\n",
       " Text(0.5, 1.0, 'Sales Average of year 2014-2017')]"
      ]
     },
     "execution_count": 12,
     "metadata": {},
     "output_type": "execute_result"
    },
    {
     "data": {
      "image/png": "[encoded data removed]",
      "text/plain": [
       "<Figure size 432x288 with 1 Axes>"
      ]
     },
     "metadata": {
      "needs_background": "light"
     },
     "output_type": "display_data"
    }
   ],
   "source": [
    "# Vertical graph\n",
    "sns.scatterplot(index,values).set(title = 'Sales Average of year 2014-2017', xlabel = 'Company', ylabel = 'Sales (million baht)' )"
   ]
  },
  {
   "cell_type": "code",
   "execution_count": 13,
   "metadata": {},
   "outputs": [
    {
     "data": {
      "text/plain": [
       "[Text(0, 0.5, 'Company'),\n",
       " Text(0.5, 0, 'Sales (million baht)'),\n",
       " Text(0.5, 1.0, 'Sales Average of year 2014-2017')]"
      ]
     },
     "execution_count": 13,
     "metadata": {},
     "output_type": "execute_result"
    },
    {
     "data": {
      "image/png": "[encoded data removed]",
      "text/plain": [
       "<Figure size 432x288 with 1 Axes>"
      ]
     },
     "metadata": {
      "needs_background": "light"
     },
     "output_type": "display_data"
    }
   ],
   "source": [
    "# Horizontal graph\n",
    "sns.scatterplot(values, index).set(title = 'Sales Average of year 2014-2017', xlabel = 'Sales (million baht)', ylabel = 'Company' )"
   ]
  }
 ],
 "metadata": {
  "kernelspec": {
   "display_name": "Python 3",
   "language": "python",
   "name": "python3"
  },
  "language_info": {
   "codemirror_mode": {
    "name": "ipython",
    "version": 3
   },
   "file_extension": ".py",
   "mimetype": "text/x-python",
   "name": "python",
   "nbconvert_exporter": "python",
   "pygments_lexer": "ipython3",
   "version": "3.7.4"
  }
 },
 "nbformat": 4,
 "nbformat_minor": 2
}
