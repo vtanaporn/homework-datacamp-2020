{
 "cells": [
  {
   "cell_type": "code",
   "execution_count": 2,
   "metadata": {},
   "outputs": [],
   "source": [
    "# Quiz7\n",
    "# เขียนโปรแกรมให้รับค่าอาหาร 3 ครั้งที่ไปทานอาหารนอกบ้านล่าสุด โดยแต่ละครั้งต้องไม่ต่ำกว่า 1,000 และไม่เกิน 5,000 (ผู้ใช้ต้องใส่อยู่ในช่วงนี้)\n",
    "# และนำค่าอาหารทั้ง 3 ครั้งมาบวกกัน\n",
    "# หากเกิน 6,000 บาท จะได้รับส่วนลด 15%\n",
    "# หากเกิน 12,000 จะได้รับส่วนลด 25%\n",
    "# จงหายอดเงินสุดท้ายที่ต้องจ่าย"
   ]
  },
  {
   "cell_type": "code",
   "execution_count": 17,
   "metadata": {},
   "outputs": [
    {
     "name": "stdout",
     "output_type": "stream",
     "text": [
      "Please input food price (1,000 <= food price <= 5,000) # 1\n",
      "5000\n",
      "Please input food price (1,000 <= food price <= 5,000) # 2\n",
      "5000\n",
      "Please input food price (1,000 <= food price <= 5,000) # 3\n",
      "5000\n",
      "Sum of food price =  15000.0\n",
      "discount 25 percent\n",
      "Food price after discount =  11250.0\n"
     ]
    }
   ],
   "source": [
    "count=1; sum=0;\n",
    "while  (count < 4):\n",
    "    print('Please input food price (1,000 <= food price <= 5,000) #', count)\n",
    "    price = float(input())\n",
    "    if  (price >=1000 and price <= 5000):\n",
    "        sum+=price\n",
    "        count+=1\n",
    "    else: print('Food price must between 1,000 and 5,000.\\Please input again.')\n",
    "if (sum > 12000):\n",
    "    promo_discount = 'discount 25 percent'\n",
    "    total = sum-(sum*0.25)\n",
    "elif (sum > 6000):\n",
    "    promo_discount = 'discount 15 percent'\n",
    "    total = sum-(sum*0.15)\n",
    "else:\n",
    "    total = sum\n",
    "    promo_discount = ''\n",
    "print('Sum of food price = ', sum)\n",
    "print(promo_discount)\n",
    "print('Food price after discount = ', total)"
   ]
  },
  {
   "cell_type": "code",
   "execution_count": null,
   "metadata": {},
   "outputs": [],
   "source": []
  }
 ],
 "metadata": {
  "kernelspec": {
   "display_name": "Python 3",
   "language": "python",
   "name": "python3"
  },
  "language_info": {
   "codemirror_mode": {
    "name": "ipython",
    "version": 3
   },
   "file_extension": ".py",
   "mimetype": "text/x-python",
   "name": "python",
   "nbconvert_exporter": "python",
   "pygments_lexer": "ipython3",
   "version": "3.7.4"
  }
 },
 "nbformat": 4,
 "nbformat_minor": 2
}
