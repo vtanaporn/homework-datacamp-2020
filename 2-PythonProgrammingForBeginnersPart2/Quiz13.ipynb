{
 "cells": [
  {
   "cell_type": "code",
   "execution_count": 1,
   "metadata": {},
   "outputs": [],
   "source": [
    "# Quiz13 เขียนโปรแกรมรับ input สองตัวเป็นจำนวนเต็มระหว่าง 0-60 โดยตัวแรกเป็นชั่วโมงและตัวที่สองเป็นนาที \n",
    "# คำนวณค่าที่จอดรถถ้าชั่วโมงละ 150 บาท เศษนาทีคิดเป็นนาทีละ 2 บาท\n",
    "# ref. https://stackoverflow.com/questions/19821273/limiting-user-input-to-a-range-in-python"
   ]
  },
  {
   "cell_type": "code",
   "execution_count": 1,
   "metadata": {},
   "outputs": [
    {
     "name": "stdout",
     "output_type": "stream",
     "text": [
      "Please enter number of hour (0 - 60) : 6\n",
      "Please enter number of minute (0 - 60) : 61\n",
      "Please enter number of minute (0 - 60) : 59\n",
      "Number of hour = 6   Number of minute = 59\n",
      "Car park fee = 1018 Bath\n"
     ]
    }
   ],
   "source": [
    "hour = 100; minute=100\n",
    "\n",
    "while not hour in range(0,61):\n",
    "    hour = int(input(\"Please enter number of hour (0 - 60) : \"))\n",
    "    \n",
    "while not minute in range(0,61):\n",
    "    minute = int(input(\"Please enter number of minute (0 - 60) : \"))\n",
    "    \n",
    "print(\"Number of hour = {}\\\n",
    "   Number of minute = {}\".format(hour, minute))\n",
    "print(\"Car park fee = {} Bath\".format(hour*150 + minute*2))"
   ]
  },
  {
   "cell_type": "code",
   "execution_count": null,
   "metadata": {},
   "outputs": [],
   "source": []
  }
 ],
 "metadata": {
  "kernelspec": {
   "display_name": "Python 3",
   "language": "python",
   "name": "python3"
  },
  "language_info": {
   "codemirror_mode": {
    "name": "ipython",
    "version": 3
   },
   "file_extension": ".py",
   "mimetype": "text/x-python",
   "name": "python",
   "nbconvert_exporter": "python",
   "pygments_lexer": "ipython3",
   "version": "3.7.4"
  }
 },
 "nbformat": 4,
 "nbformat_minor": 2
}
