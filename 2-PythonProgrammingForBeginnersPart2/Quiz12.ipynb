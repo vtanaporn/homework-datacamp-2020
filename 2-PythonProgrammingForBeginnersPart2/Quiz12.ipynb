{
 "cells": [
  {
   "cell_type": "code",
   "execution_count": 1,
   "metadata": {},
   "outputs": [],
   "source": [
    "# Quiz12 เขียนโปรแกรมรับ input 4 ตัวที่เป็น string\n",
    "# จากนั้นตรวจสอบว่า input ใดมีความยาวมากที่สุด รองลงมา และน้อยที่สุด\n",
    "# จากนั้น ปริ้นแต่ละ input ออกมาตามลำดับน้อยสุดไปมากสุด\n",
    "# ref1. https://www.geeksforgeeks.org/python-get-a-list-as-input-from-user/\n",
    "# ref2. https://stackoverflow.com/questions/2587402/sorting-python-list-based-on-the-length-of-the-string"
   ]
  },
  {
   "cell_type": "code",
   "execution_count": 15,
   "metadata": {},
   "outputs": [
    {
     "name": "stdout",
     "output_type": "stream",
     "text": [
      "Tanaporn\n",
      "Pantuprecharat\n",
      "Jack\n",
      "@ssru\n",
      "Unordered List:  ['Tanaporn', 'Pantuprecharat', 'Jack', '@ssru']\n",
      "Ordered List:  ['Jack', '@ssru', 'Tanaporn', 'Pantuprecharat']\n"
     ]
    }
   ],
   "source": [
    "# creating an empty list \n",
    "lst = [] \n",
    "\n",
    "# number of elemetns as input \n",
    "n = 4\n",
    "\n",
    "# iterating till the range \n",
    "for i in range(0, n):\n",
    "    ele = input()\n",
    "    lst.append(ele) # adding the element \n",
    "\n",
    "print(\"Unordered List: \", lst)\n",
    "print(\"Ordered List: \", sorted(lst, key=len))"
   ]
  },
  {
   "cell_type": "code",
   "execution_count": null,
   "metadata": {},
   "outputs": [],
   "source": []
  }
 ],
 "metadata": {
  "kernelspec": {
   "display_name": "Python 3",
   "language": "python",
   "name": "python3"
  },
  "language_info": {
   "codemirror_mode": {
    "name": "ipython",
    "version": 3
   },
   "file_extension": ".py",
   "mimetype": "text/x-python",
   "name": "python",
   "nbconvert_exporter": "python",
   "pygments_lexer": "ipython3",
   "version": "3.7.4"
  }
 },
 "nbformat": 4,
 "nbformat_minor": 2
}
