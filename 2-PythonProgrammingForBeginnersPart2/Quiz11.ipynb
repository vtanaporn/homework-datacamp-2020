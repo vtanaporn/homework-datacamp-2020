{
 "cells": [
  {
   "cell_type": "code",
   "execution_count": 1,
   "metadata": {},
   "outputs": [],
   "source": [
    "# Quiz11 จงเขียนโปรแกรมรับ input ที่เป็นประโยคแบบ string ที่มีความยาวของคำไม่ต่ำกว่า 7 ตัวอักษรภาษาอังกฤษ(สมมติว่าเป็นคำเดียว)\n",
    "# และมีพิมพ์ใหญ่พิมพ์เล็กปนกัน จากนั้นให้ตรวจสอบแต่ละอักษร ให้แปลงพิมพ์ใหญ่เป็นพิมพ์เล็ก และพิมพ์เล็กเป็นพิมพ์ใหญ่พร้อมกับปริ้นออกมา"
   ]
  },
  {
   "cell_type": "code",
   "execution_count": 9,
   "metadata": {},
   "outputs": [
    {
     "name": "stdout",
     "output_type": "stream",
     "text": [
      "Original string :  Tanaporn Pantuprecharat ... JACK\n",
      "After changing cases: tANAPORN pANTUPRECHARAT  jack\n"
     ]
    }
   ],
   "source": [
    "# Python code for implementation of upper() \n",
    "# Given string and new string \n",
    "  \n",
    "string ='Tanaporn Pantuprecharat ... JACK'\n",
    "newstring ='' \n",
    "\n",
    "for a in string: \n",
    "# Checking for lowercase letter and converting to uppercase. \n",
    "    if (a.isupper()) == True: \n",
    "        newstring+=(a.lower()) \n",
    "# Checking for uppercase letter and converting to lowercase. \n",
    "    elif (a.islower()) == True: \n",
    "        newstring+=(a.upper()) \n",
    "# Checking for whitespace letter and adding it to the new string as it is. \n",
    "    elif (a.isspace()) == True: \n",
    "        newstring+= a \n",
    "print(\"Original string : \", string) \n",
    "print(\"After changing cases:\", newstring) \n",
    "#print(newstring)"
   ]
  },
  {
   "cell_type": "code",
   "execution_count": null,
   "metadata": {},
   "outputs": [],
   "source": []
  }
 ],
 "metadata": {
  "kernelspec": {
   "display_name": "Python 3",
   "language": "python",
   "name": "python3"
  },
  "language_info": {
   "codemirror_mode": {
    "name": "ipython",
    "version": 3
   },
   "file_extension": ".py",
   "mimetype": "text/x-python",
   "name": "python",
   "nbconvert_exporter": "python",
   "pygments_lexer": "ipython3",
   "version": "3.7.4"
  }
 },
 "nbformat": 4,
 "nbformat_minor": 2
}
