{
 "cells": [
  {
   "cell_type": "code",
   "execution_count": 2,
   "metadata": {},
   "outputs": [],
   "source": [
    "# Quiz8 เขียนโปรแกรมให้รับค่าอาหาร 4 ครั้งที่ไปทานอาหารนอกบ้านล่าสุด\n",
    "# โดยแต่ละครั้งต้องไม่ต่ำกว่า 1,000 และไม่เกิน 5,000 (ผู้ใช้ต้องใส่อยู่ในช่วงนี้)\n",
    "# และนำค่าอาหาร 3 ครั้งแรกมาบวกกัน\n",
    "# หากเกิน 6,000 บาท จะได้รับส่วนลด 15% หากเกิน 12,000 จะได้รับส่วนลด 25% ของมื้อที่ 4\n",
    "# จงหายอดเงินสุดท้ายที่ต้องจ่ายของมื้อที่ 4"
   ]
  },
  {
   "cell_type": "code",
   "execution_count": 7,
   "metadata": {},
   "outputs": [
    {
     "name": "stdout",
     "output_type": "stream",
     "text": [
      "Please input food price (1,000 <= food price <= 5,000) # 1\n",
      "5000\n",
      "Please input food price (1,000 <= food price <= 5,000) # 2\n",
      "5000\n",
      "Please input food price (1,000 <= food price <= 5,000) # 3\n",
      "5000\n",
      "Please input food price of forth meal (1,000 <= food price <= 5,000)\n",
      "1000\n",
      "Sum of previous three meal =  15000.0\n",
      "discount 25 percent of the forth meal\n",
      "Food price of forth meal =  750.0\n"
     ]
    }
   ],
   "source": [
    "# Get price of previous 3 meals and find the total price\n",
    "count=1; sum3meal=0;\n",
    "while  (count < 4):\n",
    "    print('Please input food price (1,000 <= food price <= 5,000) #', count)\n",
    "    price = float(input())\n",
    "    if  (price >=1000 and price <= 5000):\n",
    "        sum3meal += price\n",
    "        count+=1  \n",
    "    else: print('Food price must between 1,000 and 5,000.\\Please input again.')\n",
    "\n",
    "# Get price of the forth meal\n",
    "print('Please input food price of forth meal (1,000 <= food price <= 5,000)')\n",
    "price = float(input())\n",
    "while  not(price >=1000 and price <= 5000):\n",
    "    print('Food price must between 1,000 and 5,000.\\Please input again.')\n",
    "    price = float(input())\n",
    "\n",
    "# Find price of 4th meal with discount\n",
    "if (sum3meal > 12000):\n",
    "    promo_discount = 'discount 25 percent of the forth meal'\n",
    "    total_price_meal4 = price-(price*0.25)\n",
    "elif (sum3meal > 6000):\n",
    "    promo_discount = 'discount 15 percent of the forth meal'\n",
    "    total_price_meal4 = price-(price*0.15)\n",
    "else:\n",
    "    total_price_meal4 = price\n",
    "    promo_discount = ''\n",
    "print('Sum of previous three meal = ', sum3meal)\n",
    "print(promo_discount)\n",
    "print('Food price of forth meal = ', total_price_meal4)"
   ]
  },
  {
   "cell_type": "code",
   "execution_count": null,
   "metadata": {},
   "outputs": [],
   "source": []
  }
 ],
 "metadata": {
  "kernelspec": {
   "display_name": "Python 3",
   "language": "python",
   "name": "python3"
  },
  "language_info": {
   "codemirror_mode": {
    "name": "ipython",
    "version": 3
   },
   "file_extension": ".py",
   "mimetype": "text/x-python",
   "name": "python",
   "nbconvert_exporter": "python",
   "pygments_lexer": "ipython3",
   "version": "3.7.4"
  }
 },
 "nbformat": 4,
 "nbformat_minor": 2
}
