{
 "cells": [
  {
   "cell_type": "code",
   "execution_count": 1,
   "metadata": {},
   "outputs": [],
   "source": [
    "# Quiz14 เขียนโปรแกรมรับ input สองตัวเป็นจำนวนเต็มระหว่าง 0-60 โดยตัวแรกเป็นชั่วโมงและตัวที่สองเป็นนาที\n",
    "# คำนวณค่าที่จอดรถถ้าชั่วโมงละ 300 บาท เศษนาทีเกิน 15 นาทีคิดเป็นหนึ่งชั่วโมง หากไม่เกินไม่คิดเงิน และชั่วโมงแรกจอดฟรี\n",
    "# ref. https://stackoverflow.com/questions/19821273/limiting-user-input-to-a-range-in-python"
   ]
  },
  {
   "cell_type": "code",
   "execution_count": 4,
   "metadata": {},
   "outputs": [
    {
     "name": "stdout",
     "output_type": "stream",
     "text": [
      "Please enter number of hour (0 - 60) : 5\n",
      "Please enter number of minute (0 - 60) : 16\n",
      "Number of hour = 5   Number of minute = 16\n",
      "Car park fee = 1800 Baht\n"
     ]
    }
   ],
   "source": [
    "hour = 100; minute=100; fee=0\n",
    "\n",
    "while not hour in range(0,61):\n",
    "    hour = int(input(\"Please enter number of hour (0 - 60) : \"))\n",
    "    \n",
    "while not minute in range(0,61):\n",
    "    minute = int(input(\"Please enter number of minute (0 - 60) : \"))\n",
    "    \n",
    "print(\"Number of hour = {}\\\n",
    "   Number of minute = {}\".format(hour, minute))\n",
    "\n",
    "if (hour >= 1):\n",
    "    fee=hour*300\n",
    "if (minute >15):\n",
    "    fee+=300\n",
    "    \n",
    "print(\"Car park fee = {} Baht\".format(fee))"
   ]
  },
  {
   "cell_type": "code",
   "execution_count": null,
   "metadata": {},
   "outputs": [],
   "source": []
  }
 ],
 "metadata": {
  "kernelspec": {
   "display_name": "Python 3",
   "language": "python",
   "name": "python3"
  },
  "language_info": {
   "codemirror_mode": {
    "name": "ipython",
    "version": 3
   },
   "file_extension": ".py",
   "mimetype": "text/x-python",
   "name": "python",
   "nbconvert_exporter": "python",
   "pygments_lexer": "ipython3",
   "version": "3.7.4"
  }
 },
 "nbformat": 4,
 "nbformat_minor": 2
}
