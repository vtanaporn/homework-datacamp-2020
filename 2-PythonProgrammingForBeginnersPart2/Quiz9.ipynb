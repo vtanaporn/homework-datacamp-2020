{
 "cells": [
  {
   "cell_type": "code",
   "execution_count": 2,
   "metadata": {},
   "outputs": [],
   "source": [
    "# Quiz9 เขียนโปรแกรมให้รับค่าอาหาร 4 ครั้งที่ไปทานอาหารนอกบ้านล่าสุด\n",
    "# โดยแต่ละครั้งต้องไม่ต่ำกว่า 1,000 และไม่เกิน 5,000 (เขียนให้ผู้ใช้ใส่ใหม่หากไม่อยู่ในช่วงที่กำหนด)\n",
    "# และนำค่าอาหาร 3 ครั้งแรกมาบวกกัน หากเกิน 4,000 บาท จะได้รับส่วนลด 25% หากเกิน 9,000 จะได้รับส่วนลด 30% ของมื้อที่ 4\n",
    "# จงหายอดเงินสุดท้ายที่ต้องจ่ายของมื้อที่ 4\n"
   ]
  },
  {
   "cell_type": "code",
   "execution_count": 3,
   "metadata": {},
   "outputs": [
    {
     "name": "stdout",
     "output_type": "stream",
     "text": [
      "Please input food price (1,000 <= food price <= 5,000) # 1\n",
      "1000\n",
      "Please input food price (1,000 <= food price <= 5,000) # 2\n",
      "1000\n",
      "Please input food price (1,000 <= food price <= 5,000) # 3\n",
      "1000\n",
      "Please input food price of forth meal (1,000 <= food price <= 5,000)\n",
      "1000\n",
      "Sum of previous three meal =  3000.0\n",
      "\n",
      "Food price of forth meal =  1000.0\n"
     ]
    }
   ],
   "source": [
    "# Get price of previous 3 meals and find the total price\n",
    "count=1; sum3meal=0;\n",
    "while  (count < 4):\n",
    "    print('Please input food price (1,000 <= food price <= 5,000) #', count)\n",
    "    price = float(input())\n",
    "    if  (price >=1000 and price <= 5000):\n",
    "        sum3meal += price\n",
    "        count+=1  \n",
    "    else: print('Food price must between 1,000 and 5,000.\\Please input again.')\n",
    "\n",
    "# Get price of the forth meal\n",
    "print('Please input food price of forth meal (1,000 <= food price <= 5,000)')\n",
    "price = float(input())\n",
    "while  not(price >=1000 and price <= 5000):\n",
    "    print('Food price must between 1,000 and 5,000.\\Please input again.')\n",
    "    price = float(input())\n",
    "\n",
    "# Find price of 4th meal with discount\n",
    "if (sum3meal > 9000):\n",
    "    promo_discount = 'discount 30 percent of price of the forth meal'\n",
    "    total_price_meal4 = price-(price*0.30)\n",
    "elif (sum3meal > 4000):\n",
    "    promo_discount = 'discount 25 percent of price of the forth meal'\n",
    "    total_price_meal4 = price-(price*0.25)\n",
    "else:\n",
    "    total_price_meal4 = price\n",
    "    promo_discount = ''\n",
    "print('Sum of previous three meal = ', sum3meal)\n",
    "print(promo_discount)\n",
    "print('Food price of forth meal = ', total_price_meal4)"
   ]
  },
  {
   "cell_type": "code",
   "execution_count": null,
   "metadata": {},
   "outputs": [],
   "source": []
  }
 ],
 "metadata": {
  "kernelspec": {
   "display_name": "Python 3",
   "language": "python",
   "name": "python3"
  },
  "language_info": {
   "codemirror_mode": {
    "name": "ipython",
    "version": 3
   },
   "file_extension": ".py",
   "mimetype": "text/x-python",
   "name": "python",
   "nbconvert_exporter": "python",
   "pygments_lexer": "ipython3",
   "version": "3.7.4"
  }
 },
 "nbformat": 4,
 "nbformat_minor": 2
}
