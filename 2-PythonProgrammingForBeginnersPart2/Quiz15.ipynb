{
 "cells": [
  {
   "cell_type": "code",
   "execution_count": 1,
   "metadata": {},
   "outputs": [],
   "source": [
    "# Quiz15 โรงละครสัตว์มีนก กับ วัว\n",
    "# และต้องจ่ายภาษีสัตว์ 2 ขา 150 บาทต่อตัว จ่ายภาษีสัตว์ 4 ขา 220 บาทต่อตัว\n",
    "# เขียนโปรแกรมรับค่า input สองตัว ตัวแรกเป็นผลรวมจำนวนหัวของสัตว์ ตัวสองเป็นผลรวมจำนวนขาของสัตว์\n",
    "# จงหาว่าโรงละครสัตว์ต้องจ่ายภาษีเท่าใด\n",
    "# ref. https://www.geeksforgeeks.org/count-number-of-animals-in-a-zoo-from-given-number-of-head-and-legs/"
   ]
  },
  {
   "cell_type": "code",
   "execution_count": 8,
   "metadata": {},
   "outputs": [],
   "source": [
    "# Function that calculates number of cows\n",
    "def countCows(Heads, Legs): \n",
    "    num_Cow = 0\n",
    "    \n",
    "    # formular==> 2*num_cow = leg -  2*heads\n",
    "    num_cow = Legs - 2 * Heads \n",
    "    num_cow = num_cow / 2\n",
    "  \n",
    "    return num_cow"
   ]
  },
  {
   "cell_type": "code",
   "execution_count": 9,
   "metadata": {},
   "outputs": [
    {
     "name": "stdout",
     "output_type": "stream",
     "text": [
      "Number of cows =  50.0\n",
      "Number of birds =  50.0\n",
      "Tax pay = 18500.0 baht\n"
     ]
    }
   ],
   "source": [
    "Heads = 100\n",
    "Legs = 300\n",
    "\n",
    "num_cows = countCows(Heads, Legs) \n",
    "num_birds = Heads - num_cows\n",
    "print(\"Number of cows = \", num_cows) \n",
    "print(\"Number of birds = \", num_birds)\n",
    "print(\"Tax pay = {} baht\".format(num_cows*220 + num_birds*150))"
   ]
  }
 ],
 "metadata": {
  "kernelspec": {
   "display_name": "Python 3",
   "language": "python",
   "name": "python3"
  },
  "language_info": {
   "codemirror_mode": {
    "name": "ipython",
    "version": 3
   },
   "file_extension": ".py",
   "mimetype": "text/x-python",
   "name": "python",
   "nbconvert_exporter": "python",
   "pygments_lexer": "ipython3",
   "version": "3.7.4"
  }
 },
 "nbformat": 4,
 "nbformat_minor": 2
}
