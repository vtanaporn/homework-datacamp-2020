{
 "cells": [
  {
   "cell_type": "code",
   "execution_count": null,
   "metadata": {},
   "outputs": [],
   "source": [
    "# Quiz6 เขียนโปรแกรมรับค่า int มา 3 จำนวน และตรวจสอบว่าเมื่อนำ 3 เลขนั้นมาสร้าง 3 เหลี่ยม จะได้สามเหลี่ยมแบบใด\n",
    "# - สามเหลี่ยมมุมแหลม (acute triangle) ex. 5, 6, 7\n",
    "# - สามเหลี่ยมมุมป้าน (obtuse triangle) ex. 3, 7, 9\n",
    "# - สามเหลี่ยมมุมฉาก (right triangle) ex. 3, 4, 5"
   ]
  },
  {
   "cell_type": "code",
   "execution_count": 3,
   "metadata": {},
   "outputs": [
    {
     "name": "stdout",
     "output_type": "stream",
     "text": [
      "Please input length of the first side of your triangle: 7\n",
      "Please input length of the second side of your triangle: 6\n",
      "Please input length of the third side you triangle: 5\n",
      "Line with length of 6.0, 5.0 and 7.0 form acute triangle\n"
     ]
    }
   ],
   "source": [
    "a = float(input('Please input length of the first side of your triangle: '))\n",
    "b = float(input('Please input length of the second side of your triangle: '))\n",
    "c = float(input('Please input length of the third side you triangle: '))\n",
    "\n",
    "# Assign the longest line to be side3 and the other two to be side1 and side2\n",
    "if (a>b):\n",
    "    if a>c:\n",
    "        side3=a\n",
    "        side1=b\n",
    "        side2=c\n",
    "elif (b>c):\n",
    "    side3=b\n",
    "    side1=a\n",
    "    side2=c\n",
    "else:\n",
    "    side3=c\n",
    "    side1=a\n",
    "    side2=b\n",
    "\n",
    "if (side1+side2 > side3):\n",
    "    if (side1**2 + side2**2 == side3**2):\n",
    "        print(\"Line with length of {}, {} and {} form right triangle\".format(side1, side2, side3))\n",
    "    elif (side1**2 + side2**2 > side3**2):\n",
    "        print(\"Line with length of {}, {} and {} form acute triangle\".format(side1, side2, side3))\n",
    "    else:\n",
    "        print(\"Line with length of {}, {} and {} can form obtuse triangle\".format(side1, side2, side3))\n",
    "else:\n",
    "    print(\"These 3 lines cannot form triangle\")"
   ]
  },
  {
   "cell_type": "code",
   "execution_count": null,
   "metadata": {},
   "outputs": [],
   "source": []
  }
 ],
 "metadata": {
  "kernelspec": {
   "display_name": "Python 3",
   "language": "python",
   "name": "python3"
  },
  "language_info": {
   "codemirror_mode": {
    "name": "ipython",
    "version": 3
   },
   "file_extension": ".py",
   "mimetype": "text/x-python",
   "name": "python",
   "nbconvert_exporter": "python",
   "pygments_lexer": "ipython3",
   "version": "3.7.4"
  }
 },
 "nbformat": 4,
 "nbformat_minor": 2
}
