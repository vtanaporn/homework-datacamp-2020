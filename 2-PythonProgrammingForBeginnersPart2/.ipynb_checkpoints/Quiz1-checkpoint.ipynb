{
 "cells": [
  {
   "cell_type": "code",
   "execution_count": null,
   "metadata": {},
   "outputs": [],
   "source": [
    "#Quiz1 เขียนโปรแกรมรับ input จากผู้ใช้ 1 ตัว แปลงให้เป็น int และตรวจสอบว่าเป็นเลขคู่หรือเลขคี่ \n",
    "# หากเป็นเลขคู่ ให้พิมพ์ว่า เลขคู่\n",
    "# หากเป็นเลขคี่ ให้พิมพ์ว่า เลขคี่\n",
    "# หากเป็นเลขศูนย์ให้พิมพ์ว่า เลขศูนย์"
   ]
  },
  {
   "cell_type": "code",
   "execution_count": 6,
   "metadata": {},
   "outputs": [
    {
     "name": "stdout",
     "output_type": "stream",
     "text": [
      "Please input a number: 100\n",
      "100 is even number\n"
     ]
    }
   ],
   "source": [
    "number = int(input('Please input a number: '))\n",
    "if (number == 0):\n",
    "    print('{} is zero'.format(number))\n",
    "elif (number%2 == 0):\n",
    "    print('{} is even number'.format(number))\n",
    "else:\n",
    "    print('{} is odd number'.format(number))"
   ]
  },
  {
   "cell_type": "code",
   "execution_count": null,
   "metadata": {},
   "outputs": [],
   "source": []
  }
 ],
 "metadata": {
  "kernelspec": {
   "display_name": "Python 3",
   "language": "python",
   "name": "python3"
  },
  "language_info": {
   "codemirror_mode": {
    "name": "ipython",
    "version": 3
   },
   "file_extension": ".py",
   "mimetype": "text/x-python",
   "name": "python",
   "nbconvert_exporter": "python",
   "pygments_lexer": "ipython3",
   "version": "3.7.4"
  }
 },
 "nbformat": 4,
 "nbformat_minor": 2
}
