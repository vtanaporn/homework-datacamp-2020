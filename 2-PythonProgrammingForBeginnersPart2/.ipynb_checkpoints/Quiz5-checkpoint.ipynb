{
 "cells": [
  {
   "cell_type": "code",
   "execution_count": 1,
   "metadata": {},
   "outputs": [],
   "source": [
    "#Quiz5 เขียนโปรแกรมรับค่า int มา 3 จำนวน และตรวจสอบว่า 3 เลขนั้นสามารถนำมาสร้าง 3 เหลี่ยมมุมฉากได้หรือไม่"
   ]
  },
  {
   "cell_type": "code",
   "execution_count": null,
   "metadata": {},
   "outputs": [],
   "source": [
    "#ex1. a=2, b=3, c=4\n",
    "#ex2. a=5, b=12, c=13\n",
    "#ex3. a=9, b=12, c=15"
   ]
  },
  {
   "cell_type": "code",
   "execution_count": 2,
   "metadata": {},
   "outputs": [
    {
     "name": "stdout",
     "output_type": "stream",
     "text": [
      "Please input length of the first side of your triangle: 15\n",
      "Please input length of the second side of your triangle: 9\n",
      "Please input length of the third side you triangle: 12\n",
      "Line with length of 9.0, 12.0 and 15.0 can form right-angled triangle\n"
     ]
    }
   ],
   "source": [
    "a = float(input('Please input length of the first side of your triangle: '))\n",
    "b = float(input('Please input length of the second side of your triangle: '))\n",
    "c = float(input('Please input length of the third side you triangle: '))\n",
    "\n",
    "# Assign the longest line to be side3 and the other two to be side1 and side2\n",
    "if (a>b):\n",
    "    if a>c:\n",
    "        side3=a\n",
    "        side1=b\n",
    "        side2=c\n",
    "elif (b>c):\n",
    "    side3=b\n",
    "    side1=a\n",
    "    side2=c\n",
    "else:\n",
    "    side3=c\n",
    "    side1=a\n",
    "    side2=b\n",
    "\n",
    "if (side1**2 + side2**2 == side3**2):\n",
    "    print(\"Line with length of {}, {} and {} can form right-angled triangle\".format(side1, side2, side3))\n",
    "else:\n",
    "    print(\"Line with length of {}, {} and {} cannot form right-angled triangle\".format(side1, side2, side3))"
   ]
  },
  {
   "cell_type": "code",
   "execution_count": null,
   "metadata": {},
   "outputs": [],
   "source": []
  }
 ],
 "metadata": {
  "kernelspec": {
   "display_name": "Python 3",
   "language": "python",
   "name": "python3"
  },
  "language_info": {
   "codemirror_mode": {
    "name": "ipython",
    "version": 3
   },
   "file_extension": ".py",
   "mimetype": "text/x-python",
   "name": "python",
   "nbconvert_exporter": "python",
   "pygments_lexer": "ipython3",
   "version": "3.7.4"
  }
 },
 "nbformat": 4,
 "nbformat_minor": 2
}
