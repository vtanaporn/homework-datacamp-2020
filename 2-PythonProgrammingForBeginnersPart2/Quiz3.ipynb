{
 "cells": [
  {
   "cell_type": "code",
   "execution_count": null,
   "metadata": {},
   "outputs": [],
   "source": [
    "#Quiz3 เขียนโปรแกรม infinity while loop\n",
    "#โดยรับค่า input มาเรื่อย ๆ จนกว่าผู้ใช้จะใส่เลข 0 และนำเลขทั้งหมดมาหาค่าเฉลี่ย"
   ]
  },
  {
   "cell_type": "code",
   "execution_count": 16,
   "metadata": {},
   "outputs": [
    {
     "name": "stdout",
     "output_type": "stream",
     "text": [
      "Please input all number to find average or input 0 to stop input: 0\n",
      "Average =  0\n"
     ]
    }
   ],
   "source": [
    "sum=0; count=0; average=0;\n",
    "while (True):\n",
    "    number = float(input('Please input all number to find average or input 0 to stop input: '))\n",
    "    if (number != 0.0) :\n",
    "        sum+=number\n",
    "        count+=1\n",
    "    else:\n",
    "        break\n",
    "if (count!=0):\n",
    "    average=sum/count\n",
    "print('Average = ', average)"
   ]
  },
  {
   "cell_type": "code",
   "execution_count": null,
   "metadata": {},
   "outputs": [],
   "source": []
  }
 ],
 "metadata": {
  "kernelspec": {
   "display_name": "Python 3",
   "language": "python",
   "name": "python3"
  },
  "language_info": {
   "codemirror_mode": {
    "name": "ipython",
    "version": 3
   },
   "file_extension": ".py",
   "mimetype": "text/x-python",
   "name": "python",
   "nbconvert_exporter": "python",
   "pygments_lexer": "ipython3",
   "version": "3.7.4"
  }
 },
 "nbformat": 4,
 "nbformat_minor": 2
}
